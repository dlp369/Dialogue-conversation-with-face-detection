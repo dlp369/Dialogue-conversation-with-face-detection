{
 "cells": [
  {
   "cell_type": "code",
   "execution_count": 3,
   "id": "fcb37c6d",
   "metadata": {},
   "outputs": [
    {
     "data": {
      "text/plain": [
       "'C:\\\\Users\\\\HOME\\\\DS\\\\0. PROJECTS\\\\Dialogue conversation with face detection\\\\Random Conversation Between Two Friends 👍.mp4'"
      ]
     },
     "execution_count": 3,
     "metadata": {},
     "output_type": "execute_result"
    }
   ],
   "source": [
    "from pytube import YouTube\n",
    "\n",
    "# URL of the YouTube video\n",
    "video_url = 'https://www.youtube.com/shorts/6NU6HXq7x_o'\n",
    "\n",
    "# Create a YouTube object\n",
    "yt = YouTube(video_url)\n",
    "\n",
    "# Get the highest resolution stream\n",
    "stream = yt.streams.get_highest_resolution()\n",
    "\n",
    "# Download the video\n",
    "stream.download('C:\\\\Users\\\\HOME\\\\DS\\\\0. PROJECTS\\\\Dialogue conversation with face detection')\n"
   ]
  },
  {
   "cell_type": "code",
   "execution_count": null,
   "id": "462f8bd1",
   "metadata": {},
   "outputs": [],
   "source": []
  }
 ],
 "metadata": {
  "kernelspec": {
   "display_name": "Python 3 (ipykernel)",
   "language": "python",
   "name": "python3"
  },
  "language_info": {
   "codemirror_mode": {
    "name": "ipython",
    "version": 3
   },
   "file_extension": ".py",
   "mimetype": "text/x-python",
   "name": "python",
   "nbconvert_exporter": "python",
   "pygments_lexer": "ipython3",
   "version": "3.9.18"
  }
 },
 "nbformat": 4,
 "nbformat_minor": 5
}
