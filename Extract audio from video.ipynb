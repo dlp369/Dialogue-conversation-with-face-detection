{
 "cells": [
  {
   "cell_type": "code",
   "execution_count": 2,
   "id": "605d6a4e",
   "metadata": {},
   "outputs": [
    {
     "name": "stdout",
     "output_type": "stream",
     "text": [
      "MoviePy - Writing audio in temp.wav\n"
     ]
    },
    {
     "name": "stderr",
     "output_type": "stream",
     "text": [
      "                                                                                                                       "
     ]
    },
    {
     "name": "stdout",
     "output_type": "stream",
     "text": [
      "MoviePy - Done.\n"
     ]
    },
    {
     "name": "stderr",
     "output_type": "stream",
     "text": [
      "\r"
     ]
    }
   ],
   "source": [
    "import os\n",
    "import speech_recognition as sr\n",
    "from moviepy.editor import VideoFileClip\n",
    "\n",
    "# Load the video file\n",
    "video_path = 'Random Conversation Between Two Friends.mp4'\n",
    "video_clip = VideoFileClip(video_path)\n",
    "\n",
    "# Convert the video's audio to a WAV file\n",
    "temp_audio_path = 'temp.wav'\n",
    "video_clip.audio.write_audiofile(temp_audio_path)"
   ]
  },
  {
   "cell_type": "code",
   "execution_count": null,
   "id": "89d2c318",
   "metadata": {},
   "outputs": [],
   "source": []
  }
 ],
 "metadata": {
  "kernelspec": {
   "display_name": "Python 3 (ipykernel)",
   "language": "python",
   "name": "python3"
  },
  "language_info": {
   "codemirror_mode": {
    "name": "ipython",
    "version": 3
   },
   "file_extension": ".py",
   "mimetype": "text/x-python",
   "name": "python",
   "nbconvert_exporter": "python",
   "pygments_lexer": "ipython3",
   "version": "3.9.18"
  }
 },
 "nbformat": 4,
 "nbformat_minor": 5
}
